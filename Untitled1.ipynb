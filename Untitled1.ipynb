{
 "cells": [
  {
   "cell_type": "code",
   "execution_count": null,
   "id": "699dd41e",
   "metadata": {},
   "outputs": [],
   "source": [
    "import pandas as pd\n",
    "\n",
    "# Load the Excel file\n",
    "input_file = 'dataset.xlsx'  # Replace with your input file name\n",
    "output_file = 'filtered_out_csv.xlsx'  # Replace with your desired output file name\n",
    "\n",
    "# Read the Excel file\n",
    "df = pd.read_excel(input_file)\n",
    "\n",
    "# Keep only the rows above the specified limit (10 rows in this case)\n",
    "if len(df) > 10:\n",
    "    df_filtered = df.iloc[:10]  # Keep only the first 10 rows\n",
    "else:\n",
    "    df_filtered = df  # If there are 10 or fewer rows, keep all\n",
    "\n",
    "# Save the filtered DataFrame to a new Excel file\n",
    "df_filtered.to_excel(output_file, index=False)\n",
    "\n",
    "print(f'Successfully saved the filtered data to {output_file}.')\n"
   ]
  }
 ],
 "metadata": {
  "kernelspec": {
   "display_name": "Python 3 (ipykernel)",
   "language": "python",
   "name": "python3"
  },
  "language_info": {
   "codemirror_mode": {
    "name": "ipython",
    "version": 3
   },
   "file_extension": ".py",
   "mimetype": "text/x-python",
   "name": "python",
   "nbconvert_exporter": "python",
   "pygments_lexer": "ipython3",
   "version": "3.11.5"
  }
 },
 "nbformat": 4,
 "nbformat_minor": 5
}
